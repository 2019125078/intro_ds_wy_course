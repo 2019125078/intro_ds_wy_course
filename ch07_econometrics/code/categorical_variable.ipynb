{
 "cells": [
  {
   "cell_type": "code",
   "execution_count": 1,
   "metadata": {},
   "outputs": [],
   "source": [
    "# 使用pandas读取数据\n",
    "import pandas as pd\n",
    "\n",
    "\n",
    "data_path = \"./data/adult.data\"\n",
    "raw_data = pd.read_csv(data_path)\n",
    "## 选取需要使用的列\n",
    "cols = [\"workclass\", \"sex\", \"age\", \"education_num\",\n",
    "        \"capital_gain\", \"capital_loss\", \"hours_per_week\", \"label\"]\n",
    "data = raw_data[cols]"
   ]
  },
  {
   "cell_type": "code",
   "execution_count": 3,
   "metadata": {},
   "outputs": [
    {
     "data": {
      "text/html": [
       "<div>\n",
       "<style scoped>\n",
       "    .dataframe tbody tr th:only-of-type {\n",
       "        vertical-align: middle;\n",
       "    }\n",
       "\n",
       "    .dataframe tbody tr th {\n",
       "        vertical-align: top;\n",
       "    }\n",
       "\n",
       "    .dataframe thead th {\n",
       "        text-align: right;\n",
       "    }\n",
       "</style>\n",
       "<table border=\"1\" class=\"dataframe\">\n",
       "  <thead>\n",
       "    <tr style=\"text-align: right;\">\n",
       "      <th></th>\n",
       "      <th>workclass</th>\n",
       "      <th>sex</th>\n",
       "      <th>age</th>\n",
       "      <th>education_num</th>\n",
       "      <th>capital_gain</th>\n",
       "      <th>capital_loss</th>\n",
       "      <th>hours_per_week</th>\n",
       "      <th>label</th>\n",
       "      <th>label_code</th>\n",
       "    </tr>\n",
       "  </thead>\n",
       "  <tbody>\n",
       "    <tr>\n",
       "      <th>0</th>\n",
       "      <td>State-gov</td>\n",
       "      <td>Male</td>\n",
       "      <td>39</td>\n",
       "      <td>13</td>\n",
       "      <td>2174</td>\n",
       "      <td>0</td>\n",
       "      <td>40</td>\n",
       "      <td>&lt;=50K</td>\n",
       "      <td>0</td>\n",
       "    </tr>\n",
       "    <tr>\n",
       "      <th>1</th>\n",
       "      <td>Self-emp-not-inc</td>\n",
       "      <td>Male</td>\n",
       "      <td>50</td>\n",
       "      <td>13</td>\n",
       "      <td>0</td>\n",
       "      <td>0</td>\n",
       "      <td>13</td>\n",
       "      <td>&lt;=50K</td>\n",
       "      <td>0</td>\n",
       "    </tr>\n",
       "    <tr>\n",
       "      <th>2</th>\n",
       "      <td>Private</td>\n",
       "      <td>Male</td>\n",
       "      <td>38</td>\n",
       "      <td>9</td>\n",
       "      <td>0</td>\n",
       "      <td>0</td>\n",
       "      <td>40</td>\n",
       "      <td>&lt;=50K</td>\n",
       "      <td>0</td>\n",
       "    </tr>\n",
       "    <tr>\n",
       "      <th>3</th>\n",
       "      <td>Private</td>\n",
       "      <td>Male</td>\n",
       "      <td>53</td>\n",
       "      <td>7</td>\n",
       "      <td>0</td>\n",
       "      <td>0</td>\n",
       "      <td>40</td>\n",
       "      <td>&lt;=50K</td>\n",
       "      <td>0</td>\n",
       "    </tr>\n",
       "    <tr>\n",
       "      <th>4</th>\n",
       "      <td>Private</td>\n",
       "      <td>Female</td>\n",
       "      <td>28</td>\n",
       "      <td>13</td>\n",
       "      <td>0</td>\n",
       "      <td>0</td>\n",
       "      <td>40</td>\n",
       "      <td>&lt;=50K</td>\n",
       "      <td>0</td>\n",
       "    </tr>\n",
       "  </tbody>\n",
       "</table>\n",
       "</div>"
      ],
      "text/plain": [
       "           workclass      sex  age  education_num  capital_gain  capital_loss  \\\n",
       "0          State-gov     Male   39             13          2174             0   \n",
       "1   Self-emp-not-inc     Male   50             13             0             0   \n",
       "2            Private     Male   38              9             0             0   \n",
       "3            Private     Male   53              7             0             0   \n",
       "4            Private   Female   28             13             0             0   \n",
       "\n",
       "   hours_per_week   label  label_code  \n",
       "0              40   <=50K           0  \n",
       "1              13   <=50K           0  \n",
       "2              40   <=50K           0  \n",
       "3              40   <=50K           0  \n",
       "4              40   <=50K           0  "
      ]
     },
     "execution_count": 3,
     "metadata": {},
     "output_type": "execute_result"
    }
   ],
   "source": [
    "# 将label转换为可以运算的变量\n",
    "data.loc[:, \"label_code\"] = pd.Categorical(data.label).codes\n",
    "data.head()"
   ]
  },
  {
   "cell_type": "code",
   "execution_count": 4,
   "metadata": {},
   "outputs": [
    {
     "name": "stdout",
     "output_type": "stream",
     "text": [
      "[' Male' ' Female']\n",
      "[' State-gov' ' Self-emp-not-inc' ' Private' ' Federal-gov' ' Local-gov'\n",
      " ' ?' ' Self-emp-inc' ' Without-pay' ' Never-worked']\n"
     ]
    }
   ],
   "source": [
    "print(data[\"sex\"].unique())\n",
    "print(data[\"workclass\"].unique())"
   ]
  },
  {
   "cell_type": "code",
   "execution_count": 6,
   "metadata": {
    "scrolled": false
   },
   "outputs": [
    {
     "name": "stdout",
     "output_type": "stream",
     "text": [
      "显示sex, label交叉报表：\n",
      "sex      label \n",
      " Female   <=50K     9592\n",
      "          >50K      1179\n",
      " Male     <=50K    15128\n",
      "          >50K      6662\n",
      "dtype: int64\n"
     ]
    },
    {
     "data": {
      "image/png": "[encoded data removed]",
      "text/plain": [
       "<Figure size 432x288 with 1 Axes>"
      ]
     },
     "metadata": {},
     "output_type": "display_data"
    }
   ],
   "source": [
    "# 利用交叉报表，直观了解数据\n",
    "import matplotlib.pyplot as plt\n",
    "from statsmodels.graphics.mosaicplot import mosaic\n",
    "\n",
    "\n",
    "# 计算sex, label交叉报表\n",
    "cross1 = pd.crosstab(data[\"sex\"], data[\"label\"])\n",
    "print(\"显示sex, label交叉报表：\")\n",
    "print(cross1.stack())\n",
    "# 将交叉报表图形化\n",
    "props = lambda key: {\"color\": \"0.45\"} if ' >50K' in key else {\"color\": \"#C6E2FF\"}\n",
    "mosaic(cross1[[\" >50K\", \" <=50K\"]].stack(), properties=props, axes_label=False)\n",
    "plt.show()"
   ]
  },
  {
   "cell_type": "code",
   "execution_count": 7,
   "metadata": {},
   "outputs": [],
   "source": [
    "# 将数据分为训练集和测试集\n",
    "from sklearn.model_selection import train_test_split\n",
    "\n",
    "\n",
    "train_set, test_set = train_test_split(data, test_size=0.8, random_state=2111)"
   ]
  },
  {
   "cell_type": "code",
   "execution_count": 8,
   "metadata": {},
   "outputs": [
    {
     "name": "stdout",
     "output_type": "stream",
     "text": [
      "Warning: Maximum number of iterations has been exceeded.\n",
      "         Current function value: 0.401027\n",
      "         Iterations: 35\n"
     ]
    },
    {
     "name": "stderr",
     "output_type": "stream",
     "text": [
      "/anaconda3/lib/python3.6/site-packages/statsmodels/base/model.py:508: ConvergenceWarning: Maximum Likelihood optimization failed to converge. Check mle_retvals\n",
      "  \"Check mle_retvals\", ConvergenceWarning)\n"
     ]
    }
   ],
   "source": [
    "# 训练模型\n",
    "import statsmodels.api as sm\n",
    "\n",
    "\n",
    "c_formula = \"label_code ~ C(sex) + C(workclass) + education_num + capital_gain + capital_loss + hours_per_week\"\n",
    "c_model = sm.Logit.from_formula(c_formula, data=train_set)\n",
    "c_model = c_model.fit()"
   ]
  },
  {
   "cell_type": "code",
   "execution_count": 9,
   "metadata": {},
   "outputs": [
    {
     "name": "stdout",
     "output_type": "stream",
     "text": [
      "                           Logit Regression Results                           \n",
      "==============================================================================\n",
      "Dep. Variable:             label_code   No. Observations:                 6512\n",
      "Model:                          Logit   Df Residuals:                     6498\n",
      "Method:                           MLE   Df Model:                           13\n",
      "Date:                Sat, 01 Jun 2019   Pseudo R-squ.:                  0.2732\n",
      "Time:                        21:59:43   Log-Likelihood:                -2611.5\n",
      "converged:                      False   LL-Null:                       -3593.4\n",
      "                                        LLR p-value:                     0.000\n",
      "=====================================================================================================\n",
      "                                        coef    std err          z      P>|z|      [0.025      0.975]\n",
      "-----------------------------------------------------------------------------------------------------\n",
      "Intercept                            -7.8382      0.305    -25.734      0.000      -8.435      -7.241\n",
      "C(sex)[T. Male]                       1.2566      0.090     13.959      0.000       1.080       1.433\n",
      "C(workclass)[T. Federal-gov]          1.1871      0.280      4.238      0.000       0.638       1.736\n",
      "C(workclass)[T. Local-gov]            0.9936      0.255      3.904      0.000       0.495       1.492\n",
      "C(workclass)[T. Never-worked]       -24.1726   8.42e+05  -2.87e-05      1.000   -1.65e+06    1.65e+06\n",
      "C(workclass)[T. Private]              0.7343      0.226      3.253      0.001       0.292       1.177\n",
      "C(workclass)[T. Self-emp-inc]         1.6271      0.280      5.809      0.000       1.078       2.176\n",
      "C(workclass)[T. Self-emp-not-inc]     0.7105      0.254      2.798      0.005       0.213       1.208\n",
      "C(workclass)[T. State-gov]            0.7586      0.278      2.732      0.006       0.214       1.303\n",
      "C(workclass)[T. Without-pay]         -9.1249    714.596     -0.013      0.990   -1409.708    1391.458\n",
      "education_num                         0.3361      0.016     21.347      0.000       0.305       0.367\n",
      "capital_gain                          0.0003   2.13e-05     14.196      0.000       0.000       0.000\n",
      "capital_loss                          0.0009   7.55e-05     12.084      0.000       0.001       0.001\n",
      "hours_per_week                        0.0265      0.003      8.836      0.000       0.021       0.032\n",
      "=====================================================================================================\n"
     ]
    }
   ],
   "source": [
    "# 展示模型结果\n",
    "print(c_model.summary())"
   ]
  },
  {
   "cell_type": "code",
   "execution_count": 10,
   "metadata": {},
   "outputs": [
    {
     "data": {
      "text/plain": [
       "array([[0., 0., 0., 0., 0., 0.],\n",
       "       [0., 0., 0., 0., 0., 0.],\n",
       "       [0., 0., 0., 0., 0., 0.],\n",
       "       [1., 0., 0., 0., 0., 0.],\n",
       "       [0., 1., 0., 0., 0., 0.],\n",
       "       [0., 0., 1., 0., 0., 0.],\n",
       "       [0., 0., 0., 1., 0., 0.],\n",
       "       [0., 0., 0., 0., 1., 0.],\n",
       "       [0., 0., 0., 0., 0., 1.]])"
      ]
     },
     "execution_count": 10,
     "metadata": {},
     "output_type": "execute_result"
    }
   ],
   "source": [
    "# 去掉不显著的虚拟变量\n",
    "import numpy as np\n",
    "\n",
    "\n",
    "# 定义workclass的类别顺序，数组里的第一个值为基准类别\n",
    "l = [\" ?\", \" Never-worked\", \" Without-pay\", \" State-gov\",\n",
    "     \" Self-emp-not-inc\", \" Private\", \" Federal-gov\",\n",
    "     \" Local-gov\",  \" Self-emp-inc\"]\n",
    "# 定义各个类别对应的虚拟变量\n",
    "contrast = np.eye(9, 6, k=-3)\n",
    "contrast"
   ]
  },
  {
   "cell_type": "code",
   "execution_count": 11,
   "metadata": {},
   "outputs": [
    {
     "data": {
      "text/plain": [
       "ContrastMatrix(array([[0., 0., 0., 0., 0., 0.],\n",
       "                      [0., 0., 0., 0., 0., 0.],\n",
       "                      [0., 0., 0., 0., 0., 0.],\n",
       "                      [1., 0., 0., 0., 0., 0.],\n",
       "                      [0., 1., 0., 0., 0., 0.],\n",
       "                      [0., 0., 1., 0., 0., 0.],\n",
       "                      [0., 0., 0., 1., 0., 0.],\n",
       "                      [0., 0., 0., 0., 1., 0.],\n",
       "                      [0., 0., 0., 0., 0., 1.]]),\n",
       "               [' State-gov',\n",
       "                ' Self-emp-not-inc',\n",
       "                ' Private',\n",
       "                ' Federal-gov',\n",
       "                ' Local-gov',\n",
       "                ' Self-emp-inc'])"
      ]
     },
     "execution_count": 11,
     "metadata": {},
     "output_type": "execute_result"
    }
   ],
   "source": [
    "# 为每个虚拟变量命名\n",
    "from patsy import ContrastMatrix\n",
    "\n",
    "\n",
    "contrast_mat = ContrastMatrix(contrast, l[3:])\n",
    "contrast_mat"
   ]
  },
  {
   "cell_type": "code",
   "execution_count": 12,
   "metadata": {},
   "outputs": [
    {
     "name": "stdout",
     "output_type": "stream",
     "text": [
      "Optimization terminated successfully.\n",
      "         Current function value: 0.401037\n",
      "         Iterations 8\n"
     ]
    }
   ],
   "source": [
    "# 将不显著的虚拟变量剔除，搭建模型\n",
    "m_formula = \"\"\"label_code ~ C(workclass, contrast_mat, levels=l)\n",
    "        + C(sex) + education_num + capital_gain\n",
    "        + capital_loss + hours_per_week\"\"\"\n",
    "m_model = sm.Logit.from_formula(m_formula, data=train_set)\n",
    "m_model = m_model.fit()"
   ]
  },
  {
   "cell_type": "code",
   "execution_count": 13,
   "metadata": {
    "scrolled": false
   },
   "outputs": [
    {
     "name": "stdout",
     "output_type": "stream",
     "text": [
      "                           Logit Regression Results                           \n",
      "==============================================================================\n",
      "Dep. Variable:             label_code   No. Observations:                 6512\n",
      "Model:                          Logit   Df Residuals:                     6500\n",
      "Method:                           MLE   Df Model:                           11\n",
      "Date:                Sat, 01 Jun 2019   Pseudo R-squ.:                  0.2732\n",
      "Time:                        22:03:14   Log-Likelihood:                -2611.6\n",
      "converged:                       True   LL-Null:                       -3593.4\n",
      "                                        LLR p-value:                     0.000\n",
      "=========================================================================================================================\n",
      "                                                            coef    std err          z      P>|z|      [0.025      0.975]\n",
      "-------------------------------------------------------------------------------------------------------------------------\n",
      "Intercept                                                -7.8418      0.304    -25.757      0.000      -8.438      -7.245\n",
      "C(workclass, contrast_mat, levels=l) State-gov            0.7614      0.278      2.743      0.006       0.217       1.306\n",
      "C(workclass, contrast_mat, levels=l) Self-emp-not-inc     0.7133      0.254      2.810      0.005       0.216       1.211\n",
      "C(workclass, contrast_mat, levels=l) Private              0.7371      0.226      3.267      0.001       0.295       1.179\n",
      "C(workclass, contrast_mat, levels=l) Federal-gov          1.1899      0.280      4.249      0.000       0.641       1.739\n",
      "C(workclass, contrast_mat, levels=l) Local-gov            0.9964      0.254      3.916      0.000       0.498       1.495\n",
      "C(workclass, contrast_mat, levels=l) Self-emp-inc         1.6298      0.280      5.820      0.000       1.081       2.179\n",
      "C(sex)[T. Male]                                           1.2566      0.090     13.959      0.000       1.080       1.433\n",
      "education_num                                             0.3361      0.016     21.347      0.000       0.305       0.367\n",
      "capital_gain                                              0.0003   2.13e-05     14.196      0.000       0.000       0.000\n",
      "capital_loss                                              0.0009   7.55e-05     12.085      0.000       0.001       0.001\n",
      "hours_per_week                                            0.0265      0.003      8.841      0.000       0.021       0.032\n",
      "=========================================================================================================================\n"
     ]
    }
   ],
   "source": [
    "# 展示模型结果\n",
    "print(m_model.summary())"
   ]
  },
  {
   "cell_type": "code",
   "execution_count": 14,
   "metadata": {},
   "outputs": [
    {
     "name": "stdout",
     "output_type": "stream",
     "text": [
      "Optimization terminated successfully.\n",
      "         Current function value: 0.422974\n",
      "         Iterations 8\n"
     ]
    }
   ],
   "source": [
    "# 搭建不使用类别变量的模型\n",
    "b_formula = \"\"\"label_code ~ education_num + capital_gain\n",
    "        + capital_loss + hours_per_week\"\"\"\n",
    "b_model = sm.Logit.from_formula(b_formula, data=train_set)\n",
    "b_model = b_model.fit()"
   ]
  },
  {
   "cell_type": "code",
   "execution_count": 15,
   "metadata": {},
   "outputs": [
    {
     "name": "stderr",
     "output_type": "stream",
     "text": [
      "/anaconda3/lib/python3.6/site-packages/pandas/core/indexing.py:362: SettingWithCopyWarning: \n",
      "A value is trying to be set on a copy of a slice from a DataFrame.\n",
      "Try using .loc[row_indexer,col_indexer] = value instead\n",
      "\n",
      "See the caveats in the documentation: http://pandas.pydata.org/pandas-docs/stable/indexing.html#indexing-view-versus-copy\n",
      "  self.obj[key] = _infer_fill_value(value)\n",
      "/anaconda3/lib/python3.6/site-packages/pandas/core/indexing.py:543: SettingWithCopyWarning: \n",
      "A value is trying to be set on a copy of a slice from a DataFrame.\n",
      "Try using .loc[row_indexer,col_indexer] = value instead\n",
      "\n",
      "See the caveats in the documentation: http://pandas.pydata.org/pandas-docs/stable/indexing.html#indexing-view-versus-copy\n",
      "  self.obj[item] = s\n"
     ]
    },
    {
     "data": {
      "text/html": [
       "<div>\n",
       "<style scoped>\n",
       "    .dataframe tbody tr th:only-of-type {\n",
       "        vertical-align: middle;\n",
       "    }\n",
       "\n",
       "    .dataframe tbody tr th {\n",
       "        vertical-align: top;\n",
       "    }\n",
       "\n",
       "    .dataframe thead th {\n",
       "        text-align: right;\n",
       "    }\n",
       "</style>\n",
       "<table border=\"1\" class=\"dataframe\">\n",
       "  <thead>\n",
       "    <tr style=\"text-align: right;\">\n",
       "      <th></th>\n",
       "      <th>workclass</th>\n",
       "      <th>sex</th>\n",
       "      <th>age</th>\n",
       "      <th>education_num</th>\n",
       "      <th>capital_gain</th>\n",
       "      <th>capital_loss</th>\n",
       "      <th>hours_per_week</th>\n",
       "      <th>label</th>\n",
       "      <th>label_code</th>\n",
       "      <th>b_prob</th>\n",
       "      <th>m_prob</th>\n",
       "    </tr>\n",
       "  </thead>\n",
       "  <tbody>\n",
       "    <tr>\n",
       "      <th>1704</th>\n",
       "      <td>?</td>\n",
       "      <td>Female</td>\n",
       "      <td>22</td>\n",
       "      <td>10</td>\n",
       "      <td>0</td>\n",
       "      <td>0</td>\n",
       "      <td>35</td>\n",
       "      <td>&lt;=50K</td>\n",
       "      <td>0</td>\n",
       "      <td>0.128792</td>\n",
       "      <td>0.027842</td>\n",
       "    </tr>\n",
       "    <tr>\n",
       "      <th>1376</th>\n",
       "      <td>Self-emp-not-inc</td>\n",
       "      <td>Male</td>\n",
       "      <td>44</td>\n",
       "      <td>9</td>\n",
       "      <td>0</td>\n",
       "      <td>0</td>\n",
       "      <td>55</td>\n",
       "      <td>&lt;=50K</td>\n",
       "      <td>0</td>\n",
       "      <td>0.182111</td>\n",
       "      <td>0.199595</td>\n",
       "    </tr>\n",
       "    <tr>\n",
       "      <th>14634</th>\n",
       "      <td>Private</td>\n",
       "      <td>Female</td>\n",
       "      <td>39</td>\n",
       "      <td>10</td>\n",
       "      <td>0</td>\n",
       "      <td>0</td>\n",
       "      <td>40</td>\n",
       "      <td>&lt;=50K</td>\n",
       "      <td>0</td>\n",
       "      <td>0.151025</td>\n",
       "      <td>0.063969</td>\n",
       "    </tr>\n",
       "    <tr>\n",
       "      <th>21554</th>\n",
       "      <td>Private</td>\n",
       "      <td>Female</td>\n",
       "      <td>29</td>\n",
       "      <td>13</td>\n",
       "      <td>0</td>\n",
       "      <td>0</td>\n",
       "      <td>45</td>\n",
       "      <td>&gt;50K</td>\n",
       "      <td>1</td>\n",
       "      <td>0.366086</td>\n",
       "      <td>0.176178</td>\n",
       "    </tr>\n",
       "    <tr>\n",
       "      <th>20959</th>\n",
       "      <td>Private</td>\n",
       "      <td>Female</td>\n",
       "      <td>43</td>\n",
       "      <td>9</td>\n",
       "      <td>0</td>\n",
       "      <td>0</td>\n",
       "      <td>44</td>\n",
       "      <td>&lt;=50K</td>\n",
       "      <td>0</td>\n",
       "      <td>0.129057</td>\n",
       "      <td>0.051503</td>\n",
       "    </tr>\n",
       "  </tbody>\n",
       "</table>\n",
       "</div>"
      ],
      "text/plain": [
       "               workclass      sex  age  education_num  capital_gain  \\\n",
       "1704                   ?   Female   22             10             0   \n",
       "1376    Self-emp-not-inc     Male   44              9             0   \n",
       "14634            Private   Female   39             10             0   \n",
       "21554            Private   Female   29             13             0   \n",
       "20959            Private   Female   43              9             0   \n",
       "\n",
       "       capital_loss  hours_per_week   label  label_code    b_prob    m_prob  \n",
       "1704              0              35   <=50K           0  0.128792  0.027842  \n",
       "1376              0              55   <=50K           0  0.182111  0.199595  \n",
       "14634             0              40   <=50K           0  0.151025  0.063969  \n",
       "21554             0              45    >50K           1  0.366086  0.176178  \n",
       "20959             0              44   <=50K           0  0.129057  0.051503  "
      ]
     },
     "execution_count": 15,
     "metadata": {},
     "output_type": "execute_result"
    }
   ],
   "source": [
    "# 得到预测结果\n",
    "test_set.loc[:, \"b_prob\"] = b_model.predict(test_set)\n",
    "test_set.loc[:, \"m_prob\"] = m_model.predict(test_set)\n",
    "test_set.head()"
   ]
  },
  {
   "cell_type": "code",
   "execution_count": 16,
   "metadata": {},
   "outputs": [
    {
     "data": {
      "image/png": "[encoded data removed]",
      "text/plain": [
       "<Figure size 480x480 with 1 Axes>"
      ]
     },
     "metadata": {
      "needs_background": "light"
     },
     "output_type": "display_data"
    }
   ],
   "source": [
    "# ROC曲线\n",
    "from sklearn import metrics\n",
    "\n",
    "# 计算b_model的预测效果\n",
    "b_fpr, b_tpr, _ = metrics.roc_curve(test_set[\"label_code\"], test_set[\"b_prob\"])\n",
    "b_auc = metrics.auc(b_fpr, b_tpr)\n",
    "# 计算m_model的预测效果\n",
    "m_fpr, m_tpr, _ = metrics.roc_curve(test_set[\"label_code\"], test_set[\"m_prob\"])\n",
    "m_auc = metrics.auc(m_fpr, m_tpr)\n",
    "# 画图\n",
    "fig = plt.figure(figsize=(6, 6), dpi=80)\n",
    "# 在图形框里只画一幅图\n",
    "ax = fig.add_subplot(1, 1, 1)\n",
    "ax.plot(b_fpr, b_tpr, \"k\",\n",
    "        label=\"%s; %s = %0.4f\" % (\"未使用定性变量的ROC曲线\", \"曲线下面积（AUC）\", b_auc))\n",
    "ax.plot(m_fpr, m_tpr, \"b-.\",\n",
    "        label=\"%s; %s = %0.4f\" % (\"使用定性变量的ROC曲线\", \"曲线下面积（AUC）\", m_auc))\n",
    "ax.set_xlim([0, 1])\n",
    "ax.set_ylim([0, 1])\n",
    "legend = plt.legend(shadow=True)\n",
    "plt.show()"
   ]
  }
 ],
 "metadata": {
  "kernelspec": {
   "display_name": "Python 3",
   "language": "python",
   "name": "python3"
  },
  "language_info": {
   "codemirror_mode": {
    "name": "ipython",
    "version": 3
   },
   "file_extension": ".py",
   "mimetype": "text/x-python",
   "name": "python",
   "nbconvert_exporter": "python",
   "pygments_lexer": "ipython3",
   "version": "3.6.6"
  }
 },
 "nbformat": 4,
 "nbformat_minor": 2
}
